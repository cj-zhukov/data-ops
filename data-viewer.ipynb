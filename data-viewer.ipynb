{
 "cells": [
  {
   "cell_type": "code",
   "execution_count": 4,
   "metadata": {},
   "outputs": [
    {
     "name": "stdout",
     "output_type": "stream",
     "text": [
      "id: int32 not null\n",
      "name: string\n"
     ]
    },
    {
     "data": {
      "text/html": [
       "<div><style>\n",
       ".dataframe > thead > tr,\n",
       ".dataframe > tbody > tr {\n",
       "  text-align: right;\n",
       "  white-space: pre-wrap;\n",
       "}\n",
       "</style>\n",
       "<small>shape: (3, 2)</small><table border=\"1\" class=\"dataframe\"><thead><tr><th>id</th><th>name</th></tr><tr><td>i32</td><td>str</td></tr></thead><tbody><tr><td>1</td><td>&quot;foo&quot;</td></tr><tr><td>2</td><td>&quot;bar&quot;</td></tr><tr><td>3</td><td>&quot;baz&quot;</td></tr></tbody></table></div>"
      ],
      "text/plain": [
       "shape: (3, 2)\n",
       "┌─────┬──────┐\n",
       "│ id  ┆ name │\n",
       "│ --- ┆ ---  │\n",
       "│ i32 ┆ str  │\n",
       "╞═════╪══════╡\n",
       "│ 1   ┆ foo  │\n",
       "│ 2   ┆ bar  │\n",
       "│ 3   ┆ baz  │\n",
       "└─────┴──────┘"
      ]
     },
     "execution_count": 4,
     "metadata": {},
     "output_type": "execute_result"
    }
   ],
   "source": [
    "from datafusion import SessionContext\n",
    "import polars as pl\n",
    "\n",
    "pl.Config.set_fmt_str_lengths(1000)\n",
    "pl.Config.set_tbl_cols(-1)\n",
    "pl.Config.set_tbl_rows(-1)\n",
    "\n",
    "file = \"data/foo.parquet\"\n",
    "ctx = SessionContext()\n",
    "ctx.register_parquet(\"t\", file)\n",
    "df = ctx.sql(\"select * from t limit 10\")\n",
    "# df = ctx.sql(\"select * exclude(name) \\\n",
    "#              from t \\\n",
    "#              order by id\")\n",
    "print(df.schema())\n",
    "df = df.to_polars()\n",
    "df"
   ]
  },
  {
   "cell_type": "code",
   "execution_count": 5,
   "metadata": {},
   "outputs": [
    {
     "data": {
      "text/html": [
       "<div><style>\n",
       ".dataframe > thead > tr,\n",
       ".dataframe > tbody > tr {\n",
       "  text-align: right;\n",
       "  white-space: pre-wrap;\n",
       "}\n",
       "</style>\n",
       "<small>shape: (3, 2)</small><table border=\"1\" class=\"dataframe\"><thead><tr><th>id</th><th>name</th></tr><tr><td>i32</td><td>str</td></tr></thead><tbody><tr><td>1</td><td>&quot;foo&quot;</td></tr><tr><td>2</td><td>&quot;bar&quot;</td></tr><tr><td>3</td><td>&quot;baz&quot;</td></tr></tbody></table></div>"
      ],
      "text/plain": [
       "shape: (3, 2)\n",
       "┌─────┬──────┐\n",
       "│ id  ┆ name │\n",
       "│ --- ┆ ---  │\n",
       "│ i32 ┆ str  │\n",
       "╞═════╪══════╡\n",
       "│ 1   ┆ foo  │\n",
       "│ 2   ┆ bar  │\n",
       "│ 3   ┆ baz  │\n",
       "└─────┴──────┘"
      ]
     },
     "execution_count": 5,
     "metadata": {},
     "output_type": "execute_result"
    }
   ],
   "source": [
    "import polars as pl\n",
    "\n",
    "# pl.Config.restore_defaults()\n",
    "pl.Config.set_fmt_str_lengths(1000)\n",
    "pl.Config.set_tbl_cols(-1)\n",
    "pl.Config.set_tbl_rows(-1)\n",
    "\n",
    "file = \"data/foo.parquet\"\n",
    "df = pl.scan_parquet(file)\n",
    "# df.schema\n",
    "context = pl.SQLContext(frame=df)\n",
    "query = \"\"\"\n",
    "    select *\n",
    "    from frame\n",
    "    limit 10\n",
    "    \"\"\"\n",
    "context.execute(query).collect()"
   ]
  },
  {
   "cell_type": "code",
   "execution_count": 7,
   "metadata": {},
   "outputs": [
    {
     "data": {
      "text/html": [
       "<div><style>\n",
       ".dataframe > thead > tr,\n",
       ".dataframe > tbody > tr {\n",
       "  text-align: right;\n",
       "  white-space: pre-wrap;\n",
       "}\n",
       "</style>\n",
       "<small>shape: (3, 4)</small><table border=\"1\" class=\"dataframe\"><thead><tr><th>id</th><th>metadata</th><th>name</th><th>data</th></tr><tr><td>i32</td><td>str</td><td>str</td><td>str</td></tr></thead><tbody><tr><td>1</td><td>&quot;{&quot;data&quot;:42,&quot;name&quot;:&quot;foo&quot;}&quot;</td><td>&quot;foo&quot;</td><td>&quot;42&quot;</td></tr><tr><td>3</td><td>&quot;{&quot;data&quot;:44,&quot;name&quot;:&quot;baz&quot;}&quot;</td><td>&quot;baz&quot;</td><td>&quot;44&quot;</td></tr><tr><td>2</td><td>&quot;{&quot;data&quot;:43,&quot;name&quot;:&quot;bar&quot;}&quot;</td><td>&quot;bar&quot;</td><td>&quot;43&quot;</td></tr></tbody></table></div>"
      ],
      "text/plain": [
       "shape: (3, 4)\n",
       "┌─────┬──────────────────────────┬──────┬──────┐\n",
       "│ id  ┆ metadata                 ┆ name ┆ data │\n",
       "│ --- ┆ ---                      ┆ ---  ┆ ---  │\n",
       "│ i32 ┆ str                      ┆ str  ┆ str  │\n",
       "╞═════╪══════════════════════════╪══════╪══════╡\n",
       "│ 1   ┆ {\"data\":42,\"name\":\"foo\"} ┆ foo  ┆ 42   │\n",
       "│ 3   ┆ {\"data\":44,\"name\":\"baz\"} ┆ baz  ┆ 44   │\n",
       "│ 2   ┆ {\"data\":43,\"name\":\"bar\"} ┆ bar  ┆ 43   │\n",
       "└─────┴──────────────────────────┴──────┴──────┘"
      ]
     },
     "execution_count": 7,
     "metadata": {},
     "output_type": "execute_result"
    }
   ],
   "source": [
    "import polars as pl\n",
    "\n",
    "pl.Config.set_fmt_str_lengths(100)\n",
    "pl.Config.set_tbl_cols(-1)\n",
    "pl.Config.set_tbl_rows(-1)\n",
    "\n",
    "file = \"./data/foo2.parquet\"\n",
    "df = pl.scan_parquet(file)\n",
    "df = df.with_columns([\n",
    "    pl.col('metadata').str.json_path_match(r\"$.name\").alias('name'),\n",
    "    pl.col('metadata').str.json_path_match(r\"$.data\").alias('data'),\n",
    "])\n",
    "context = pl.SQLContext(frame=df)\n",
    "query = \"\"\"\n",
    "    select *\n",
    "    from frame\n",
    "    limit 10\n",
    "    \"\"\"\n",
    "context.execute(query).collect()"
   ]
  },
  {
   "cell_type": "code",
   "execution_count": 10,
   "metadata": {},
   "outputs": [
    {
     "data": {
      "text/plain": [
       "┌───────┬─────────┐\n",
       "│  id   │  name   │\n",
       "│ int32 │ varchar │\n",
       "├───────┼─────────┤\n",
       "│     1 │ foo     │\n",
       "│     2 │ bar     │\n",
       "│     3 │ baz     │\n",
       "└───────┴─────────┘"
      ]
     },
     "execution_count": 10,
     "metadata": {},
     "output_type": "execute_result"
    }
   ],
   "source": [
    "import duckdb\n",
    "\n",
    "duckdb.sql(\n",
    "    \"\"\"\n",
    "    select *\n",
    "    from 'data/foo.parquet'\n",
    "    limit 10\n",
    "    \"\"\"\n",
    ")"
   ]
  },
  {
   "cell_type": "code",
   "execution_count": 11,
   "metadata": {},
   "outputs": [
    {
     "data": {
      "text/html": [
       "<div>\n",
       "<style scoped>\n",
       "    .dataframe tbody tr th:only-of-type {\n",
       "        vertical-align: middle;\n",
       "    }\n",
       "\n",
       "    .dataframe tbody tr th {\n",
       "        vertical-align: top;\n",
       "    }\n",
       "\n",
       "    .dataframe thead th {\n",
       "        text-align: right;\n",
       "    }\n",
       "</style>\n",
       "<table border=\"1\" class=\"dataframe\">\n",
       "  <thead>\n",
       "    <tr style=\"text-align: right;\">\n",
       "      <th></th>\n",
       "      <th>id</th>\n",
       "      <th>name</th>\n",
       "    </tr>\n",
       "  </thead>\n",
       "  <tbody>\n",
       "    <tr>\n",
       "      <th>0</th>\n",
       "      <td>1</td>\n",
       "      <td>foo</td>\n",
       "    </tr>\n",
       "    <tr>\n",
       "      <th>1</th>\n",
       "      <td>2</td>\n",
       "      <td>bar</td>\n",
       "    </tr>\n",
       "    <tr>\n",
       "      <th>2</th>\n",
       "      <td>3</td>\n",
       "      <td>baz</td>\n",
       "    </tr>\n",
       "  </tbody>\n",
       "</table>\n",
       "</div>"
      ],
      "text/plain": [
       "   id name\n",
       "0   1  foo\n",
       "1   2  bar\n",
       "2   3  baz"
      ]
     },
     "execution_count": 11,
     "metadata": {},
     "output_type": "execute_result"
    }
   ],
   "source": [
    "import pyarrow.parquet as pq\n",
    "\n",
    "file = \"./data/foo.parquet\"\n",
    "df = pq.read_table(file)\n",
    "df.to_pandas().head(5)"
   ]
  }
 ],
 "metadata": {
  "kernelspec": {
   "display_name": ".env",
   "language": "python",
   "name": "python3"
  },
  "language_info": {
   "codemirror_mode": {
    "name": "ipython",
    "version": 3
   },
   "file_extension": ".py",
   "mimetype": "text/x-python",
   "name": "python",
   "nbconvert_exporter": "python",
   "pygments_lexer": "ipython3",
   "version": "3.11.7"
  }
 },
 "nbformat": 4,
 "nbformat_minor": 2
}
